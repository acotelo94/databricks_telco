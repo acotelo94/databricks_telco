{
 "cells": [
  {
   "cell_type": "markdown",
   "metadata": {
    "application/vnd.databricks.v1+cell": {
     "cellMetadata": {},
     "inputWidgets": {},
     "nuid": "91f0d331-d152-45e2-a674-a3687d8c6f09",
     "showTitle": false,
     "tableResultSettingsMap": {},
     "title": ""
    }
   },
   "source": [
    "### Crear Managed Table en Gold\n",
    "* Usar JOIN entre las tablas 'Clientes' y 'Detalles' para optener los \"ingresos por clientes\""
   ]
  },
  {
   "cell_type": "code",
   "execution_count": 0,
   "metadata": {
    "application/vnd.databricks.v1+cell": {
     "cellMetadata": {
      "byteLimit": 2048000,
      "rowLimit": 10000
     },
     "inputWidgets": {},
     "nuid": "85c44016-985b-4652-8ee4-c49f3fffcdff",
     "showTitle": false,
     "tableResultSettingsMap": {},
     "title": ""
    }
   },
   "outputs": [],
   "source": [
    "DROP TABLE IF EXISTS telco_dev.gold.ingreso_por_cliente;\n",
    "\n",
    "CREATE TABLE telco_dev.gold.ingreso_por_cliente AS\n",
    "  SELECT C.nombre_completo,SUM(D.precio_mensual) AS ingreso\n",
    "  FROM telco_dev.silver.clientes C\n",
    "  INNER JOIN telco_dev.silver.detalles D\n",
    "  ON C.cliente_id=D.cliente_id\n",
    "  WHERE D.estado=true\n",
    "  GROUP BY C.nombre_completo\n",
    "  ORDER BY ingreso DESC"
   ]
  },
  {
   "cell_type": "code",
   "execution_count": 0,
   "metadata": {
    "application/vnd.databricks.v1+cell": {
     "cellMetadata": {
      "byteLimit": 2048000,
      "rowLimit": 10000
     },
     "inputWidgets": {},
     "nuid": "066a585c-9df2-46f5-adb0-988d9f985b3f",
     "showTitle": false,
     "tableResultSettingsMap": {},
     "title": ""
    }
   },
   "outputs": [],
   "source": [
    "SELECT * FROM telco_dev.gold.ingreso_por_cliente"
   ]
  }
 ],
 "metadata": {
  "application/vnd.databricks.v1+notebook": {
   "computePreferences": null,
   "dashboards": [],
   "environmentMetadata": {
    "base_environment": "",
    "environment_version": "2"
   },
   "inputWidgetPreferences": null,
   "language": "sql",
   "notebookMetadata": {
    "pythonIndentUnit": 4
   },
   "notebookName": "05.create_gold_tables",
   "widgets": {}
  },
  "language_info": {
   "name": "sql"
  }
 },
 "nbformat": 4,
 "nbformat_minor": 0
}
