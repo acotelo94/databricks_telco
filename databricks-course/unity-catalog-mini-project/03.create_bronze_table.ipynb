{
 "cells": [
  {
   "cell_type": "markdown",
   "metadata": {
    "application/vnd.databricks.v1+cell": {
     "cellMetadata": {},
     "inputWidgets": {},
     "nuid": "1fc61358-50b3-4bb4-959b-42886766079e",
     "showTitle": false,
     "tableResultSettingsMap": {},
     "title": ""
    }
   },
   "source": [
    "### Crear tablas en el esquema Bronze\n",
    "1. Clientes.csv\n",
    "2. detalles.csv"
   ]
  },
  {
   "cell_type": "code",
   "execution_count": 0,
   "metadata": {
    "application/vnd.databricks.v1+cell": {
     "cellMetadata": {
      "byteLimit": 2048000,
      "rowLimit": 10000
     },
     "inputWidgets": {},
     "nuid": "4eb353b8-f600-477a-a56d-764efe06728b",
     "showTitle": false,
     "tableResultSettingsMap": {},
     "title": ""
    }
   },
   "outputs": [],
   "source": [
    "DROP TABLE IF EXISTS telco_dev.bronze.clientes;\n",
    "\n",
    "CREATE TABLE IF NOT EXISTS telco_dev.bronze.clientes (\n",
    "  ClienteId INT,\n",
    "  nombre STRING,\n",
    "  materno STRING,\n",
    "  documentoIdentidad STRING,\n",
    "  telefono STRING,\n",
    "  email STRING,\n",
    "  direccion STRING\n",
    ")\n",
    "USING CSV\n",
    "OPTIONS (path \"abfss://bronze@sadatabricksexternal.dfs.core.windows.net/clientes.csv\", delimiter=\";\",header=\"true\")"
   ]
  },
  {
   "cell_type": "code",
   "execution_count": 0,
   "metadata": {
    "application/vnd.databricks.v1+cell": {
     "cellMetadata": {
      "byteLimit": 2048000,
      "rowLimit": 10000
     },
     "inputWidgets": {},
     "nuid": "195a8ba3-d952-476b-9391-ab5c0ada1acf",
     "showTitle": false,
     "tableResultSettingsMap": {},
     "title": ""
    }
   },
   "outputs": [],
   "source": [
    "DROP TABLE IF EXISTS telco_dev.bronze.detalles;\n",
    "\n",
    "CREATE TABLE IF NOT EXISTS telco_dev.bronze.detalles (\n",
    "  detalleId INT,\n",
    "  clienteId INT,\n",
    "  servicio STRING,\n",
    "  plan STRING,\n",
    "  precioMensual DECIMAL(5,2),\n",
    "  estado BOOLEAN,\n",
    "  fechaInicio DATE,\n",
    "  fechaFin DATE\n",
    ")\n",
    "USING CSV\n",
    "OPTIONS (path \"abfss://bronze@sadatabricksexternal.dfs.core.windows.net/detalles.csv\", delimiter=\";\",header=\"true\")"
   ]
  },
  {
   "cell_type": "code",
   "execution_count": 0,
   "metadata": {
    "application/vnd.databricks.v1+cell": {
     "cellMetadata": {
      "byteLimit": 2048000,
      "rowLimit": 10000
     },
     "inputWidgets": {},
     "nuid": "a059966e-7769-4be0-94f0-b1fc09e57ec2",
     "showTitle": false,
     "tableResultSettingsMap": {},
     "title": ""
    }
   },
   "outputs": [],
   "source": [
    "SELECT * FROM telco_dev.bronze.detalles"
   ]
  }
 ],
 "metadata": {
  "application/vnd.databricks.v1+notebook": {
   "computePreferences": null,
   "dashboards": [],
   "environmentMetadata": {
    "base_environment": "",
    "environment_version": "2"
   },
   "inputWidgetPreferences": null,
   "language": "sql",
   "notebookMetadata": {},
   "notebookName": "03.create_bronze_table",
   "widgets": {}
  },
  "language_info": {
   "name": "sql"
  }
 },
 "nbformat": 4,
 "nbformat_minor": 0
}
