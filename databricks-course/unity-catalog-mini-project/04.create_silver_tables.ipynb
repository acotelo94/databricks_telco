{
 "cells": [
  {
   "cell_type": "markdown",
   "metadata": {
    "application/vnd.databricks.v1+cell": {
     "cellMetadata": {},
     "inputWidgets": {},
     "nuid": "a34a00b2-71d3-4b92-88f1-718ac969116b",
     "showTitle": false,
     "tableResultSettingsMap": {},
     "title": ""
    }
   },
   "source": [
    "### Crear Managed Table en Silver\n",
    "1. Clientes\n",
    "2. Detalles"
   ]
  },
  {
   "cell_type": "code",
   "execution_count": 0,
   "metadata": {
    "application/vnd.databricks.v1+cell": {
     "cellMetadata": {
      "byteLimit": 2048000,
      "rowLimit": 10000
     },
     "inputWidgets": {},
     "nuid": "39bb57ad-b619-4b08-b656-8b01e71aa144",
     "showTitle": false,
     "tableResultSettingsMap": {},
     "title": ""
    }
   },
   "outputs": [],
   "source": [
    "DROP TABLE IF EXISTS telco_dev.silver.clientes;\n",
    "\n",
    "CREATE TABLE IF NOT EXISTS telco_dev.silver.clientes AS \n",
    "SELECT \n",
    "ClienteId AS cliente_id,\n",
    "concat(nombre,' ',materno) AS nombre_completo,\n",
    "documentoIdentidad AS documento_identidad,\n",
    "telefono,\n",
    "email,\n",
    "direccion,\n",
    "current_timestamp() as ingestion_date\n",
    "FROM telco_dev.bronze.clientes\n"
   ]
  },
  {
   "cell_type": "code",
   "execution_count": 0,
   "metadata": {
    "application/vnd.databricks.v1+cell": {
     "cellMetadata": {
      "byteLimit": 2048000,
      "rowLimit": 10000
     },
     "inputWidgets": {},
     "nuid": "d25494e6-3ee9-4003-8bdc-c896311486ad",
     "showTitle": false,
     "tableResultSettingsMap": {},
     "title": ""
    }
   },
   "outputs": [],
   "source": [
    "SELECT * FROM telco_dev.silver.clientes"
   ]
  },
  {
   "cell_type": "code",
   "execution_count": 0,
   "metadata": {
    "application/vnd.databricks.v1+cell": {
     "cellMetadata": {
      "byteLimit": 2048000,
      "rowLimit": 10000
     },
     "inputWidgets": {},
     "nuid": "36430923-cb15-4710-8c41-7f248c14f211",
     "showTitle": false,
     "tableResultSettingsMap": {},
     "title": ""
    }
   },
   "outputs": [],
   "source": [
    "DROP TABLE IF EXISTS telco_dev.silver.detalles;\n",
    "\n",
    "CREATE TABLE IF NOT EXISTS telco_dev.silver.detalles AS \n",
    "SELECT \n",
    "detalleId AS detalle_id,\n",
    "clienteId AS cliente_id,\n",
    "servicio,\n",
    "plan,\n",
    "precioMensual as precio_mensual,\n",
    "estado,\n",
    "fechaInicio as fecha_inicio,\n",
    "fechaFin as fecha_fin,\n",
    "current_timestamp() as ingestion_date\n",
    "FROM telco_dev.bronze.detalles"
   ]
  },
  {
   "cell_type": "code",
   "execution_count": 0,
   "metadata": {
    "application/vnd.databricks.v1+cell": {
     "cellMetadata": {
      "byteLimit": 2048000,
      "rowLimit": 10000
     },
     "inputWidgets": {},
     "nuid": "615667b6-3079-47e0-b309-5dec89818272",
     "showTitle": false,
     "tableResultSettingsMap": {},
     "title": ""
    }
   },
   "outputs": [],
   "source": [
    "SELECT * FROM telco_dev.silver.detalles"
   ]
  }
 ],
 "metadata": {
  "application/vnd.databricks.v1+notebook": {
   "computePreferences": null,
   "dashboards": [],
   "environmentMetadata": {
    "base_environment": "",
    "environment_version": "2"
   },
   "inputWidgetPreferences": null,
   "language": "sql",
   "notebookMetadata": {
    "pythonIndentUnit": 4
   },
   "notebookName": "04.create_silver_tables",
   "widgets": {}
  },
  "language_info": {
   "name": "sql"
  }
 },
 "nbformat": 4,
 "nbformat_minor": 0
}
